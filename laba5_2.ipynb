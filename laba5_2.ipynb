{
 "cells": [
  {
   "cell_type": "markdown",
   "metadata": {
    "colab_type": "text",
    "id": "view-in-github"
   },
   "source": [
    "<a href=\"https://colab.research.google.com/github/LoSk-p/spo/blob/master/Blockchain.ipynb\" target=\"_parent\"><img src=\"https://colab.research.google.com/assets/colab-badge.svg\" alt=\"Open In Colab\"/></a>"
   ]
  },
  {
   "cell_type": "code",
   "execution_count": 38,
   "metadata": {
    "colab": {},
    "colab_type": "code",
    "id": "jsKRVn9lJ3t4"
   },
   "outputs": [
    {
     "name": "stdout",
     "output_type": "stream",
     "text": [
      "Defaulting to user installation because normal site-packages is not writeable\n",
      "Requirement already satisfied: web3==4.2.1 in /Users/milena/Library/Python/3.7/lib/python/site-packages (4.2.1)\n",
      "Requirement already satisfied: eth-abi<2,>=1.1.0 in /Users/milena/Library/Python/3.7/lib/python/site-packages (from web3==4.2.1) (1.3.0)\n",
      "Requirement already satisfied: hexbytes<1.0.0,>=0.1.0 in /Library/Python/3.7/site-packages (from web3==4.2.1) (0.2.0)\n",
      "Requirement already satisfied: eth-account<0.3.0,>=0.2.1 in /Users/milena/Library/Python/3.7/lib/python/site-packages (from web3==4.2.1) (0.2.3)\n",
      "Requirement already satisfied: requests<3.0.0,>=2.16.0 in /Library/Python/3.7/site-packages (from web3==4.2.1) (2.23.0)\n",
      "Requirement already satisfied: websockets>=4.0.1 in /Library/Python/3.7/site-packages (from web3==4.2.1) (8.1)\n",
      "Requirement already satisfied: cytoolz<1.0.0,>=0.9.0; implementation_name == \"cpython\" in /Library/Python/3.7/site-packages (from web3==4.2.1) (0.10.1)\n",
      "Requirement already satisfied: eth-utils<2.0.0,>=1.0.1 in /Library/Python/3.7/site-packages (from web3==4.2.1) (1.8.4)\n",
      "Requirement already satisfied: lru-dict<2.0.0,>=1.1.6 in /Library/Python/3.7/site-packages (from web3==4.2.1) (1.1.6)\n",
      "Requirement already satisfied: eth-hash[pycryptodome] in /Library/Python/3.7/site-packages (from web3==4.2.1) (0.2.0)\n",
      "Requirement already satisfied: eth-typing<3.0.0,>=2.0.0 in /Library/Python/3.7/site-packages (from eth-abi<2,>=1.1.0->web3==4.2.1) (2.2.1)\n",
      "Requirement already satisfied: parsimonious<0.9.0,>=0.8.0 in /Library/Python/3.7/site-packages (from eth-abi<2,>=1.1.0->web3==4.2.1) (0.8.1)\n",
      "Requirement already satisfied: eth-rlp<1,>=0.1.2 in /Library/Python/3.7/site-packages (from eth-account<0.3.0,>=0.2.1->web3==4.2.1) (0.1.2)\n",
      "Requirement already satisfied: eth-keys<0.3.0,>=0.2.0b3 in /Library/Python/3.7/site-packages (from eth-account<0.3.0,>=0.2.1->web3==4.2.1) (0.2.4)\n",
      "Requirement already satisfied: attrdict<3,>=2.0.0 in /Library/Python/3.7/site-packages (from eth-account<0.3.0,>=0.2.1->web3==4.2.1) (2.0.1)\n",
      "Requirement already satisfied: eth-keyfile<0.6.0,>=0.5.0 in /Library/Python/3.7/site-packages (from eth-account<0.3.0,>=0.2.1->web3==4.2.1) (0.5.1)\n",
      "Requirement already satisfied: urllib3!=1.25.0,!=1.25.1,<1.26,>=1.21.1 in /Library/Python/3.7/site-packages (from requests<3.0.0,>=2.16.0->web3==4.2.1) (1.25.8)\n",
      "Requirement already satisfied: chardet<4,>=3.0.2 in /Library/Python/3.7/site-packages (from requests<3.0.0,>=2.16.0->web3==4.2.1) (3.0.4)\n",
      "Requirement already satisfied: certifi>=2017.4.17 in /Library/Python/3.7/site-packages (from requests<3.0.0,>=2.16.0->web3==4.2.1) (2019.11.28)\n",
      "Requirement already satisfied: idna<3,>=2.5 in /Library/Python/3.7/site-packages (from requests<3.0.0,>=2.16.0->web3==4.2.1) (2.9)\n",
      "Requirement already satisfied: toolz>=0.8.0 in /Library/Python/3.7/site-packages (from cytoolz<1.0.0,>=0.9.0; implementation_name == \"cpython\"->web3==4.2.1) (0.10.0)\n",
      "Requirement already satisfied: pycryptodome<4,>=3.6.6; extra == \"pycryptodome\" in /Library/Python/3.7/site-packages (from eth-hash[pycryptodome]->web3==4.2.1) (3.9.7)\n",
      "Requirement already satisfied: six>=1.9.0 in /Library/Developer/CommandLineTools/Library/Frameworks/Python3.framework/Versions/3.7/lib/python3.7/site-packages (from parsimonious<0.9.0,>=0.8.0->eth-abi<2,>=1.1.0->web3==4.2.1) (1.12.0)\n",
      "Requirement already satisfied: rlp<2,>=0.6.0 in /Library/Python/3.7/site-packages (from eth-rlp<1,>=0.1.2->eth-account<0.3.0,>=0.2.1->web3==4.2.1) (1.2.0)\n"
     ]
    }
   ],
   "source": [
    "!pip install web3==4.2.1"
   ]
  },
  {
   "cell_type": "code",
   "execution_count": 39,
   "metadata": {
    "colab": {},
    "colab_type": "code",
    "id": "ZoYJai2hYLqx"
   },
   "outputs": [
    {
     "data": {
      "text/plain": [
       "9797587"
      ]
     },
     "execution_count": 39,
     "metadata": {},
     "output_type": "execute_result"
    }
   ],
   "source": [
    "from web3 import Web3 \n",
    "#file = open('Nom.txt','r')\n",
    "#Nom = file.read()\n",
    "#file.close()\n",
    "web3 = Web3(Web3.HTTPProvider(\"https://mainnet.infura.io/v3/11d07501b90b450fb466e8f2492c0ccb\"))\n",
    "web3.eth.blockNumber"
   ]
  },
  {
   "cell_type": "code",
   "execution_count": 40,
   "metadata": {
    "colab": {},
    "colab_type": "code",
    "id": "E17wIDEEm_ew"
   },
   "outputs": [],
   "source": [
    "Reward=2 #награда за блок фиксированная ETH\n",
    "N=8955400    #Начальный блок"
   ]
  },
  {
   "cell_type": "markdown",
   "metadata": {
    "colab_type": "text",
    "id": "xoSrVcDOOMpJ"
   },
   "source": [
    "Получение информации о транзакциях"
   ]
  },
  {
   "cell_type": "code",
   "execution_count": 41,
   "metadata": {
    "colab": {
     "base_uri": "https://localhost:8080/",
     "height": 50
    },
    "colab_type": "code",
    "id": "b6i8hMGTuCkE",
    "outputId": "45076181-b547-4ac0-9ba1-7ea1750547f2"
   },
   "outputs": [
    {
     "name": "stdout",
     "output_type": "stream",
     "text": [
      "CPU times: user 17.6 s, sys: 1.58 s, total: 19.2 s\n",
      "Wall time: 15min 8s\n"
     ]
    }
   ],
   "source": [
    "%%time\n",
    "Blocks_gasUsed=[]\n",
    "Blocks_Price=[]\n",
    "Blocks_Contracts=[]\n",
    "for i in range(10):\n",
    "  GasUsed = []\n",
    "  Price = []\n",
    "  Contracts=[]\n",
    "  for trans in web3.eth.getBlock(N+i)['transactions']:\n",
    "    gettr=web3.eth.getTransaction(trans)\n",
    "    gettrRes=web3.eth.getTransactionReceipt(trans)\n",
    "    GasUsed.append(gettrRes['gasUsed'])\n",
    "    Price.append(gettr['gasPrice'])\n",
    "    if gettr['input'] != '0x':\n",
    "      Contracts.append(1)\n",
    "  Blocks_gasUsed.append(GasUsed)\n",
    "  Blocks_Price.append(Price)\n",
    "  Blocks_Contracts.append(Contracts)\n",
    "\n"
   ]
  },
  {
   "cell_type": "markdown",
   "metadata": {
    "colab_type": "text",
    "id": "dkcPBb6UOcXE"
   },
   "source": [
    "Сохранение информации в файл, расчет награды за блок и процента комиссии майнеру"
   ]
  },
  {
   "cell_type": "code",
   "execution_count": 42,
   "metadata": {
    "colab": {},
    "colab_type": "code",
    "id": "PXRwBNRCsgbg"
   },
   "outputs": [],
   "source": [
    "file = open('Blocks_info.txt', 'w')\n",
    "Blocks_nom=[]\n",
    "Blocks_com=[]\n",
    "Blocks_otn=[]\n",
    "Blocks_contr=[]\n",
    "for i in range(10):\n",
    "  Komm = 0\n",
    "  Contr = len(Blocks_Contracts[i])\n",
    "  for j in range(len(Blocks_Price[i])):\n",
    "    Komm += Blocks_Price[i][j]*Blocks_gasUsed[i][j]/(10**18)\n",
    "  Blocks_nom.append(i+N)\n",
    "  Blocks_com.append(float(\"{0:.2f}\".format(Komm)))\n",
    "  Blocks_otn.append(float(\"{0:.1f}\".format(Komm*100/(Komm+2))))\n",
    "  Blocks_contr.append(Contr)\n",
    "  file.write(str(i+N) + ',' + str(Komm) + ',' + str(Komm*100/(Komm+2)) + ',' + str(Contr) + '\\n')  \n",
    "file.close()"
   ]
  },
  {
   "cell_type": "markdown",
   "metadata": {
    "colab_type": "text",
    "id": "ytjrMrEXOxVJ"
   },
   "source": [
    "Чтение информации из файла"
   ]
  },
  {
   "cell_type": "code",
   "execution_count": 43,
   "metadata": {
    "colab": {},
    "colab_type": "code",
    "id": "ulKSOz1hBZ2u"
   },
   "outputs": [],
   "source": [
    "file = open('Blocks_info.txt', 'r')\n",
    "inf=file.read().splitlines()\n",
    "file.close()\n",
    "Blocks_nom=[]\n",
    "Blocks_com=[]\n",
    "Blocks_otn=[]\n",
    "Blocks_contr=[]\n",
    "for block in inf:\n",
    "  block=block.split(',')\n",
    "  Blocks_nom.append(int(block[0]))\n",
    "  Blocks_com.append(float(block[1]))\n",
    "  Blocks_otn.append(float(block[2]))\n",
    "  Blocks_contr.append(int(block[3]))"
   ]
  },
  {
   "cell_type": "markdown",
   "metadata": {
    "colab_type": "text",
    "id": "AXA6G51XO2hM"
   },
   "source": [
    "Расчет количества блоков с определенной комиссией и процентом"
   ]
  },
  {
   "cell_type": "code",
   "execution_count": 44,
   "metadata": {
    "colab": {},
    "colab_type": "code",
    "id": "OrS-Bqyvx2Kg"
   },
   "outputs": [],
   "source": [
    "from collections import Counter\n",
    "#Blocks_com.remove(122.46)\n",
    "#Blocks_otn.remove(98.4)\n",
    "Blocks_otn_counter = Counter(Blocks_otn)\n",
    "Blocks_com_counter = Counter(Blocks_com)\n",
    "Blocks_contr_counter = Counter(Blocks_contr)"
   ]
  },
  {
   "cell_type": "code",
   "execution_count": 45,
   "metadata": {
    "colab": {
     "base_uri": "https://localhost:8080/",
     "height": 295
    },
    "colab_type": "code",
    "id": "GuL5n47y39kW",
    "outputId": "2cf786aa-ff39-4204-b560-740347674dbb"
   },
   "outputs": [
    {
     "data": {
      "image/png": "[encoded data removed]",
      "text/plain": [
       "<Figure size 432x288 with 1 Axes>"
      ]
     },
     "metadata": {
      "needs_background": "light"
     },
     "output_type": "display_data"
    }
   ],
   "source": [
    "import matplotlib.pyplot as plt\n",
    "\n",
    "plt.scatter(Blocks_otn_counter.keys(), Blocks_otn_counter.values(), color='blue', s=10)\n",
    "plt.title('График количества блоков с определенным процентом комиссии')\n",
    "plt.xlabel('Комиссия %')\n",
    "plt.ylabel('Кол-во блоков')\n",
    "plt.show()"
   ]
  },
  {
   "cell_type": "code",
   "execution_count": 46,
   "metadata": {
    "colab": {
     "base_uri": "https://localhost:8080/",
     "height": 295
    },
    "colab_type": "code",
    "id": "d68g2_S-G1XL",
    "outputId": "e8863424-a246-457f-cf22-bc251f06fb04"
   },
   "outputs": [
    {
     "data": {
      "image/png": "[encoded data removed]",
      "text/plain": [
       "<Figure size 432x288 with 1 Axes>"
      ]
     },
     "metadata": {
      "needs_background": "light"
     },
     "output_type": "display_data"
    }
   ],
   "source": [
    "plt.scatter(Blocks_com_counter.keys(), Blocks_com_counter.values(), color='blue', s=10)\n",
    "plt.title('График количества блоков с определенной комиссией')\n",
    "plt.xlabel('Комиссия ETH')\n",
    "plt.ylabel('Кол-во блоков')\n",
    "plt.show()"
   ]
  },
  {
   "cell_type": "code",
   "execution_count": 47,
   "metadata": {
    "colab": {
     "base_uri": "https://localhost:8080/",
     "height": 295
    },
    "colab_type": "code",
    "id": "UORx_i0UAbg8",
    "outputId": "e481300f-85d9-43f5-8b36-0ce3aab5c8c8"
   },
   "outputs": [
    {
     "data": {
      "image/png": "[encoded data removed]",
      "text/plain": [
       "<Figure size 432x288 with 1 Axes>"
      ]
     },
     "metadata": {
      "needs_background": "light"
     },
     "output_type": "display_data"
    }
   ],
   "source": [
    "plt.scatter(Blocks_contr_counter.keys(), Blocks_contr_counter.values(), color='blue', s=10)\n",
    "plt.title('График количества блоков с определенным количеством смарт-контрактов')\n",
    "plt.xlabel('Кол-во смарт-контрактов')\n",
    "plt.ylabel('Кол-во блоков')\n",
    "plt.show()"
   ]
  },
  {
   "cell_type": "markdown",
   "metadata": {
    "colab_type": "text",
    "id": "pkL29fq5PA8K"
   },
   "source": [
    "Статистика"
   ]
  },
  {
   "cell_type": "code",
   "execution_count": 48,
   "metadata": {
    "colab": {
     "base_uri": "https://localhost:8080/",
     "height": 118
    },
    "colab_type": "code",
    "id": "bMi4tK2VBKs4",
    "outputId": "57d90d85-e334-40e3-cde8-2970802dd57d"
   },
   "outputs": [
    {
     "name": "stdout",
     "output_type": "stream",
     "text": [
      "Абсолютное значение комиссии\n",
      "Медиана 0.09758418621169783\n",
      "Размах 0.15778434357032298\n",
      "Среднее значение 0.117\n",
      "Дисперсия 0.0034\n",
      "Отклонение 0.059\n"
     ]
    }
   ],
   "source": [
    "import statistics \n",
    "print('Абсолютное значение комиссии')\n",
    "print('Медиана ' + str(statistics.median(Blocks_com)))\n",
    "kom_range_razmah = max(Blocks_com) - min(Blocks_com) \n",
    "print('Размах ' + str(kom_range_razmah))\n",
    "print('Среднее значение ' + \"{0:.3f}\".format(statistics.mean(Blocks_com)))\n",
    "print('Дисперсия ' + \"{0:.4f}\".format(statistics.variance(Blocks_com)))\n",
    "print('Отклонение ' + \"{0:.3f}\".format(statistics.stdev(Blocks_com)))"
   ]
  },
  {
   "cell_type": "code",
   "execution_count": 49,
   "metadata": {
    "colab": {
     "base_uri": "https://localhost:8080/",
     "height": 118
    },
    "colab_type": "code",
    "id": "7oFA3hOBItWL",
    "outputId": "68c1d3d9-be67-42de-a407-277673464040"
   },
   "outputs": [
    {
     "name": "stdout",
     "output_type": "stream",
     "text": [
      "Относительное значение комиссии\n",
      "Медиана 4.645215214574767\n",
      "Размах 6.944263659608931\n",
      "Среднее значение 5.5\n",
      "Дисперсия 6.7\n",
      "Отклонение 2.6\n"
     ]
    }
   ],
   "source": [
    "print('Относительное значение комиссии')\n",
    "print('Медиана ' + str(statistics.median(Blocks_otn)))\n",
    "kom_range_razmah = max(Blocks_otn) - min(Blocks_otn) \n",
    "print('Размах ' + str(kom_range_razmah))\n",
    "print('Среднее значение ' + \"{0:.1f}\".format(statistics.mean(Blocks_otn)))\n",
    "print('Дисперсия ' + \"{0:.1f}\".format(statistics.variance(Blocks_otn)))\n",
    "print('Отклонение ' + \"{0:.1f}\".format(statistics.stdev(Blocks_otn)))"
   ]
  },
  {
   "cell_type": "code",
   "execution_count": 50,
   "metadata": {
    "colab": {
     "base_uri": "https://localhost:8080/",
     "height": 118
    },
    "colab_type": "code",
    "id": "ZVJObOVLBiX2",
    "outputId": "73ff44e1-06f8-4dca-fdf2-f1b3a2fc821e"
   },
   "outputs": [
    {
     "name": "stdout",
     "output_type": "stream",
     "text": [
      "Количество смарт-контрактов\n",
      "Медиана 127.5\n",
      "Размах 139\n",
      "Среднее значение 124.9\n",
      "Дисперсия 1701.9\n",
      "Отклонение 41.3\n"
     ]
    }
   ],
   "source": [
    "print('Количество смарт-контрактов')\n",
    "print('Медиана ' + str(statistics.median(Blocks_contr)))\n",
    "kom_range_razmah = max(Blocks_contr) - min(Blocks_contr) \n",
    "print('Размах ' + str(kom_range_razmah))\n",
    "print('Среднее значение ' + \"{0:.1f}\".format(statistics.mean(Blocks_contr)))\n",
    "print('Дисперсия ' + \"{0:.1f}\".format(statistics.variance(Blocks_contr)))\n",
    "print('Отклонение ' + \"{0:.1f}\".format(statistics.stdev(Blocks_contr)))"
   ]
  },
  {
   "cell_type": "code",
   "execution_count": null,
   "metadata": {},
   "outputs": [],
   "source": []
  },
  {
   "cell_type": "code",
   "execution_count": null,
   "metadata": {},
   "outputs": [],
   "source": []
  }
 ],
 "metadata": {
  "colab": {
   "include_colab_link": true,
   "name": "Blockchain.ipynb",
   "provenance": []
  },
  "kernelspec": {
   "display_name": "Python 3",
   "language": "python",
   "name": "python3"
  },
  "language_info": {
   "codemirror_mode": {
    "name": "ipython",
    "version": 3
   },
   "file_extension": ".py",
   "mimetype": "text/x-python",
   "name": "python",
   "nbconvert_exporter": "python",
   "pygments_lexer": "ipython3",
   "version": "3.7.3"
  }
 },
 "nbformat": 4,
 "nbformat_minor": 1
}
