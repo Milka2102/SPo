{
 "cells": [
  {
   "cell_type": "code",
   "execution_count": 1,
   "metadata": {},
   "outputs": [
    {
     "ename": "ImportError",
     "evalue": "No module named web3",
     "output_type": "error",
     "traceback": [
      "\u001b[0;31m---------------------------------------------------------------------------\u001b[0m",
      "\u001b[0;31mImportError\u001b[0m                               Traceback (most recent call last)",
      "\u001b[0;32m<ipython-input-1-d7fe63ad9792>\u001b[0m in \u001b[0;36m<module>\u001b[0;34m()\u001b[0m\n\u001b[0;32m----> 1\u001b[0;31m \u001b[0;32mfrom\u001b[0m \u001b[0mweb3\u001b[0m \u001b[0;32mimport\u001b[0m \u001b[0mWeb3\u001b[0m\u001b[0;34m\u001b[0m\u001b[0m\n\u001b[0m\u001b[1;32m      2\u001b[0m \u001b[0mweb3\u001b[0m \u001b[0;34m=\u001b[0m \u001b[0mWeb3\u001b[0m\u001b[0;34m(\u001b[0m\u001b[0mWeb3\u001b[0m\u001b[0;34m.\u001b[0m\u001b[0mHTTPProvider\u001b[0m\u001b[0;34m(\u001b[0m\u001b[0;34m\"https://mainnet.infura.io/v3/83f8f2d0842247b9a5b4bf0d9927396f\"\u001b[0m\u001b[0;34m)\u001b[0m\u001b[0;34m)\u001b[0m\u001b[0;34m\u001b[0m\u001b[0m\n\u001b[1;32m      3\u001b[0m \u001b[0;32mimport\u001b[0m \u001b[0mmatplotlib\u001b[0m\u001b[0;34m.\u001b[0m\u001b[0mpyplot\u001b[0m \u001b[0;32mas\u001b[0m \u001b[0mplt\u001b[0m\u001b[0;34m\u001b[0m\u001b[0m\n\u001b[1;32m      4\u001b[0m \u001b[0;32mimport\u001b[0m \u001b[0mmath\u001b[0m\u001b[0;34m\u001b[0m\u001b[0m\n",
      "\u001b[0;31mImportError\u001b[0m: No module named web3"
     ]
    }
   ],
   "source": [
    "!pip install web3==4.2.1"
    "from web3 import Web3"
    "from web3 import Web3 \n",
    "web3 = Web3(Web3.HTTPProvider(\"https://mainnet.infura.io/v3/83f8f2d0842247b9a5b4bf0d9927396f\"))\n",
    "import matplotlib.pyplot as plt\n",
    "import math"
   ]
  },
  {
   "cell_type": "code",
   "execution_count": null,
   "metadata": {},
   "outputs": [],
   "source": [
    "k = 1\n",
    "startBlocNumber = 8961400 - 1000 * (k - 1)\n",
    "endBlocNumber = 8961400 - 1000 * (k - 2)\n",
    "contracts = []\n",
    "commissions = []\n",
    "percentBloc = []\n",
    "for blocNumber in range(startBlocNumber, endBlocNumber):\n",
    "    print(blocNumber - startBlocNumber)\n",
    "    commission = 0\n",
    "    contrartsCount = 0\n",
    "    for transactionId in web3.eth.getBlock(blocNumber)['transactions']:\n",
    "        transaction = web3.eth.getTransaction(transactionId)\n",
    "        commission += web3.eth.getTransactionReceipt(transactionId)['gasUsed'] * transaction['gasPrice'] / 10**18 \n",
    "        if (transaction['input'] != '0x'): \n",
    "            contrartsCount += 1\n",
    "    commissions.append(commission)\n",
    "    contracts.append(contrartsCount)\n",
    "    percentBloc.append(commission * 100 / (2 + commission))"
   ]
  },
  {
   "cell_type": "code",
   "execution_count": null,
   "metadata": {},
   "outputs": [],
   "source": [
    "plt.plot(range(len(commissions)), commissions)\n",
    "plt.show()\n",
    "plt.plot(range(len(percentBloc)), percentBloc)\n",
    "plt.show()"
   ]
  },
  {
   "cell_type": "code",
   "execution_count": null,
   "metadata": {},
   "outputs": [],
   "source": [
    "Mx = sum([(i+1)*commissions[i] for i in range(len(commissions))])\n",
    "Dx = sum([(commission-Mx)**2/len(commissions) for commission in commissions])\n",
    "sortCommissions = commissions.copy()\n",
    "sortCommissions.sort()\n",
    "Me = sortCommissions[len(commissions) // 2]\n",
    "scope = max(commissions) - min(commissions)\n",
    "SDx = math.sqrt(sum([(commission-Mx)**2 / len(commissions) for commission in commissions]))"
   ]
  },
  {
   "cell_type": "code",
   "execution_count": null,
   "metadata": {},
   "outputs": [],
   "source": [
    "print(\"contracts: \", contracts, end=\"\\n\\n\")\n",
    "print(\"commissions: \", commissions, end=\"\\n\\n\")\n",
    "print(\"percentBloc: \", percentBloc, end=\"\\n\\n\")\n",
    "print(\"Mx: \", Mx, \"\\nDx: \", Dx, \"\\nMe: \", Me, \"\\nscope: \", scope, \"\\nSDx: \", SDx)"
   ]
  },
  {
   "cell_type": "code",
   "execution_count": null,
   "metadata": {},
   "outputs": [],
   "source": []
  }
 ],
 "metadata": {
  "kernelspec": {
   "display_name": "Python 2",
   "language": "python",
   "name": "python2"
  },
  "language_info": {
   "codemirror_mode": {
    "name": "ipython",
    "version": 2
   },
   "file_extension": ".py",
   "mimetype": "text/x-python",
   "name": "python",
   "nbconvert_exporter": "python",
   "pygments_lexer": "ipython2",
   "version": "2.7.15"
  }
 },
 "nbformat": 4,
 "nbformat_minor": 2
}
